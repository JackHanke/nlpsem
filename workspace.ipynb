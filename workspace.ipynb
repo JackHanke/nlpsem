{
 "cells": [
  {
   "cell_type": "markdown",
   "id": "0707b218",
   "metadata": {},
   "source": [
    "# Exploration of Zipfness in Modern Tokenizers\n",
    "Members: Jack Hanke, Daniel Plotkin, Nicole Birova"
   ]
  },
  {
   "cell_type": "code",
   "execution_count": 7,
   "id": "3def57cb",
   "metadata": {},
   "outputs": [],
   "source": [
    "# get RoBERTa, GPT-4 tokenizers\n",
    "from transformers import RobertaTokenizer, AutoTokenizer\n",
    "import tiktoken\n",
    "\n",
    "class RoBERTa_Tokenizer:\n",
    "    def __init__(self):\n",
    "        self.name = 'RoBERTa Tokenizer'\n",
    "        self.tokenizer = RobertaTokenizer.from_pretrained(\"FacebookAI/roberta-base\")\n",
    "    def tokenize(self, text_str: str):\n",
    "        return self.tokenizer(text_str)['input_ids']\n",
    "        return self.tokenizer.encode(text_str[:512])\n",
    "        return self.tokenizer.encode(text_str)\n",
    "    def detokenize(self, tokens: list[int]):\n",
    "        return self.tokenizer.decode(tokens)\n",
    "\n",
    "class GPT4_Tokenizer:\n",
    "    def __init__(self):\n",
    "        self.name = 'GPT 4 Tokenizer'\n",
    "        self.tokenizer = tiktoken.encoding_for_model(\"gpt-4o\")\n",
    "    def tokenize(self, text_str: str):\n",
    "        return self.tokenizer.encode(text_str, disallowed_special=())\n",
    "    def detokenize(self, tokens: list[int]):\n",
    "        return self.tokenizer.decode(tokens)\n",
    "\n",
    "roberta_tokenizer = RoBERTa_Tokenizer()\n",
    "gpt_tokenizer = GPT4_Tokenizer()\n",
    "\n",
    "text_str = \"Hello world\"\n",
    "assert roberta_tokenizer.detokenize(roberta_tokenizer.tokenize(text_str=text_str))\n",
    "assert gpt_tokenizer.detokenize(gpt_tokenizer.tokenize(text_str=text_str))\n"
   ]
  },
  {
   "cell_type": "code",
   "execution_count": 15,
   "id": "08c3c61e",
   "metadata": {},
   "outputs": [],
   "source": [
    "# \n",
    "def increment_dict(dictionary: dict, key: str):\n",
    "    try:\n",
    "        dictionary[key] += 1\n",
    "    except KeyError:\n",
    "        dictionary[key] = 1\n",
    "\n",
    "# \n",
    "def sort_dictionary(dictionary: dict):\n",
    "    return {k: v for k, v in sorted(dictionary.items(), key=lambda item: item[1], reverse=True)}\n",
    "\n",
    "# \n",
    "# increment frequency for a given item (sentence) and a given tokenizer\n",
    "def increment_frequency(dictionary:dict, item: str, tokenizer):\n",
    "    # if no tokenizer, increment word freq\n",
    "    if tokenizer is None:\n",
    "        for count, word in enumerate(item.split()):\n",
    "            increment_dict(dictionary=dictionary, key=word)\n",
    "        return count+1\n",
    "    \n",
    "    # increment token freq\n",
    "    tokens = tokenizer.tokenize(item)\n",
    "    for count, token in enumerate(tokens):\n",
    "        increment_dict(dictionary=dictionary, key=token)\n",
    "    return count+1\n",
    "\n",
    "# \n",
    "def normalize_dictionary(dictionary: dict, denominator: int):\n",
    "    return_dictionary = {}\n",
    "    for key, value in dictionary.items():\n",
    "        return_dictionary[key] = value/denominator\n",
    "    \n",
    "    return return_dictionary\n"
   ]
  },
  {
   "cell_type": "code",
   "execution_count": null,
   "id": "7e5ed532",
   "metadata": {},
   "outputs": [
    {
     "name": "stderr",
     "output_type": "stream",
     "text": [
      "  0%|          | 177395/40000000 [00:14<58:52, 11272.13it/s] Token indices sequence length is longer than the specified maximum sequence length for this model (526 > 512). Running this sequence through the model will result in indexing errors\n",
      "100%|██████████| 40000000/40000000 [46:41<00:00, 14275.76it/s] \n",
      "100%|██████████| 34004228/34004228 [38:09<00:00, 14855.38it/s]\n"
     ]
    }
   ],
   "source": [
    "# get bookscorpus from: \"https://storage.googleapis.com/huggingface-nlp/datasets/bookcorpus/bookcorpus.tar.bz2\"\n",
    "from tqdm import tqdm\n",
    "\n",
    "# experiment filenames\n",
    "def experiment(filenames: list[str]):\n",
    "    word_freq_dict, gpt_token_freq_dict, roberta_token_freq_dict = {}, {}, {}\n",
    "    word_count, gpt_token_count, roberta_token_count = 0, 0, 0\n",
    "\n",
    "    for filename in filenames:\n",
    "        with open(filename, 'r') as f:\n",
    "            prog_bar = tqdm(f.readlines())\n",
    "            for line in prog_bar:\n",
    "                item = str(line)\n",
    "                word_count += increment_frequency(dictionary=word_freq_dict, item=item, tokenizer=None)\n",
    "                gpt_token_count += increment_frequency(dictionary=gpt_token_freq_dict, item=item, tokenizer=gpt_tokenizer)\n",
    "                roberta_token_count += increment_frequency(dictionary=roberta_token_freq_dict, item=item, tokenizer=roberta_tokenizer)\n",
    "\n",
    "    # \n",
    "    sorted_word_freq_dict = sort_dictionary(dictionary=word_freq_dict)\n",
    "    word_frequencies = normalize_dictionary(dictionary=sorted_word_freq_dict, denominator=word_count)\n",
    "\n",
    "    sorted_gpt_token_freq_dict = sort_dictionary(dictionary=gpt_token_freq_dict)\n",
    "    gpt_token_frequencies = normalize_dictionary(dictionary=sorted_gpt_token_freq_dict, denominator=gpt_token_count)\n",
    "\n",
    "    sorted_roberta_token_freq_dict = sort_dictionary(dictionary=roberta_token_freq_dict)\n",
    "    roberta_token_frequencies = normalize_dictionary(dictionary=sorted_roberta_token_freq_dict, denominator=roberta_token_count)\n",
    "\n",
    "    return word_frequencies, gpt_token_frequencies, roberta_token_frequencies\n"
   ]
  },
  {
   "cell_type": "code",
   "execution_count": null,
   "id": "f0b6d40a",
   "metadata": {},
   "outputs": [],
   "source": [
    "# bookscorpus experiment\n",
    "# NOTE these are over 2GB each\n",
    "filenames = [f'data/books_large_p1.txt', f'data/books_large_p2.txt']\n",
    "\n",
    "bookscorpus_word_frequencies, bookscorpus_gpt_token_frequencies, bookscorpus_roberta_token_frequencies = experiment(filenames=filenames)"
   ]
  },
  {
   "cell_type": "code",
   "execution_count": null,
   "id": "62ccbf4a",
   "metadata": {},
   "outputs": [
    {
     "data": {
      "application/vnd.jupyter.widget-view+json": {
       "model_id": "a979930a4cee4850b8118a39b786e807",
       "version_major": 2,
       "version_minor": 0
      },
      "text/plain": [
       "README.md:   0%|          | 0.00/3.25k [00:00<?, ?B/s]"
      ]
     },
     "metadata": {},
     "output_type": "display_data"
    },
    {
     "data": {
      "application/vnd.jupyter.widget-view+json": {
       "model_id": "32f33f966bc741e59e9b468d4293abb5",
       "version_major": 2,
       "version_minor": 0
      },
      "text/plain": [
       "(…)-00000-of-00012-6fbcb5acda05b3c0.parquet:   0%|          | 0.00/258M [00:00<?, ?B/s]"
      ]
     },
     "metadata": {},
     "output_type": "display_data"
    },
    {
     "data": {
      "application/vnd.jupyter.widget-view+json": {
       "model_id": "082946a8159e4ca188f615126179ce4b",
       "version_major": 2,
       "version_minor": 0
      },
      "text/plain": [
       "(…)-00001-of-00012-2bb9d088068a84c9.parquet:   0%|          | 0.00/262M [00:00<?, ?B/s]"
      ]
     },
     "metadata": {},
     "output_type": "display_data"
    },
    {
     "data": {
      "application/vnd.jupyter.widget-view+json": {
       "model_id": "fb7ba75cda1f491db71844594f38c05a",
       "version_major": 2,
       "version_minor": 0
      },
      "text/plain": [
       "(…)-00002-of-00012-efb6c8de04272068.parquet:   0%|          | 0.00/259M [00:00<?, ?B/s]"
      ]
     },
     "metadata": {},
     "output_type": "display_data"
    },
    {
     "data": {
      "application/vnd.jupyter.widget-view+json": {
       "model_id": "8fd3573e099c4a349ed791befaa52581",
       "version_major": 2,
       "version_minor": 0
      },
      "text/plain": [
       "(…)-00003-of-00012-47006e5a888a9324.parquet:   0%|          | 0.00/275M [00:00<?, ?B/s]"
      ]
     },
     "metadata": {},
     "output_type": "display_data"
    },
    {
     "data": {
      "application/vnd.jupyter.widget-view+json": {
       "model_id": "0308c5b1c6254d7fb0496d5702a03387",
       "version_major": 2,
       "version_minor": 0
      },
      "text/plain": [
       "(…)-00004-of-00012-a6a94a0207e8e96c.parquet:   0%|          | 0.00/260M [00:00<?, ?B/s]"
      ]
     },
     "metadata": {},
     "output_type": "display_data"
    },
    {
     "data": {
      "application/vnd.jupyter.widget-view+json": {
       "model_id": "400b8c80ce694ef8bb58bd018dced043",
       "version_major": 2,
       "version_minor": 0
      },
      "text/plain": [
       "(…)-00005-of-00012-d255c96cd87a0aa7.parquet:   0%|          | 0.00/263M [00:00<?, ?B/s]"
      ]
     },
     "metadata": {},
     "output_type": "display_data"
    },
    {
     "data": {
      "application/vnd.jupyter.widget-view+json": {
       "model_id": "9aa430ba1d114338bbcc27a8952dd33e",
       "version_major": 2,
       "version_minor": 0
      },
      "text/plain": [
       "(…)-00006-of-00012-89040916c30140e6.parquet:   0%|          | 0.00/259M [00:00<?, ?B/s]"
      ]
     },
     "metadata": {},
     "output_type": "display_data"
    },
    {
     "data": {
      "application/vnd.jupyter.widget-view+json": {
       "model_id": "e331d40088a545b5b87e5f2e6b927691",
       "version_major": 2,
       "version_minor": 0
      },
      "text/plain": [
       "(…)-00007-of-00012-239b43e016d4ac92.parquet:   0%|          | 0.00/256M [00:00<?, ?B/s]"
      ]
     },
     "metadata": {},
     "output_type": "display_data"
    },
    {
     "data": {
      "application/vnd.jupyter.widget-view+json": {
       "model_id": "b3540831199c4eb89ffa8f800eb5e45c",
       "version_major": 2,
       "version_minor": 0
      },
      "text/plain": [
       "(…)-00008-of-00012-3273ba93936ad8ef.parquet:   0%|          | 0.00/260M [00:00<?, ?B/s]"
      ]
     },
     "metadata": {},
     "output_type": "display_data"
    },
    {
     "data": {
      "application/vnd.jupyter.widget-view+json": {
       "model_id": "51fb0ec3247248c6b8a51c448705769b",
       "version_major": 2,
       "version_minor": 0
      },
      "text/plain": [
       "(…)-00009-of-00012-0b640f47936d940a.parquet:   0%|          | 0.00/264M [00:00<?, ?B/s]"
      ]
     },
     "metadata": {},
     "output_type": "display_data"
    },
    {
     "data": {
      "application/vnd.jupyter.widget-view+json": {
       "model_id": "3c4e6667aa4b4fec88d55ceb9d61b1fe",
       "version_major": 2,
       "version_minor": 0
      },
      "text/plain": [
       "(…)-00010-of-00012-d266658ccbfa0537.parquet:   0%|          | 0.00/270M [00:00<?, ?B/s]"
      ]
     },
     "metadata": {},
     "output_type": "display_data"
    },
    {
     "data": {
      "application/vnd.jupyter.widget-view+json": {
       "model_id": "a8f1f47f545e4e93a9e04b2eb2f1be44",
       "version_major": 2,
       "version_minor": 0
      },
      "text/plain": [
       "(…)-00011-of-00012-aec474909333c631.parquet:   0%|          | 0.00/258M [00:00<?, ?B/s]"
      ]
     },
     "metadata": {},
     "output_type": "display_data"
    },
    {
     "data": {
      "application/vnd.jupyter.widget-view+json": {
       "model_id": "28a18c83eb11488581351edebc55803e",
       "version_major": 2,
       "version_minor": 0
      },
      "text/plain": [
       "(…)-00000-of-00001-a2192e61a091cecb.parquet:   0%|          | 0.00/1.52M [00:00<?, ?B/s]"
      ]
     },
     "metadata": {},
     "output_type": "display_data"
    },
    {
     "data": {
      "application/vnd.jupyter.widget-view+json": {
       "model_id": "4e4aba513c284e18bdd46f8e4137ccaf",
       "version_major": 2,
       "version_minor": 0
      },
      "text/plain": [
       "(…)-00000-of-00001-010a6231c4b54d31.parquet:   0%|          | 0.00/31.5M [00:00<?, ?B/s]"
      ]
     },
     "metadata": {},
     "output_type": "display_data"
    },
    {
     "data": {
      "application/vnd.jupyter.widget-view+json": {
       "model_id": "1a14dc3e851649f2918707b75b4a06d0",
       "version_major": 2,
       "version_minor": 0
      },
      "text/plain": [
       "Generating train split:   0%|          | 0/1000000 [00:00<?, ? examples/s]"
      ]
     },
     "metadata": {},
     "output_type": "display_data"
    },
    {
     "data": {
      "application/vnd.jupyter.widget-view+json": {
       "model_id": "619b6d299ed84346a34a6a658b42806e",
       "version_major": 2,
       "version_minor": 0
      },
      "text/plain": [
       "Generating validation split:   0%|          | 0/500 [00:00<?, ? examples/s]"
      ]
     },
     "metadata": {},
     "output_type": "display_data"
    },
    {
     "data": {
      "application/vnd.jupyter.widget-view+json": {
       "model_id": "ece345cb9cea4bf887bb10d60187dcc3",
       "version_major": 2,
       "version_minor": 0
      },
      "text/plain": [
       "Generating test split:   0%|          | 0/10000 [00:00<?, ? examples/s]"
      ]
     },
     "metadata": {},
     "output_type": "display_data"
    }
   ],
   "source": [
    "from datasets import load_dataset, Dataset\n",
    "\n",
    "def get_minipile():\n",
    "    ds = load_dataset(\"JeanKaddour/minipile\")\n",
    "    ds.save_to_disk('data/minipile')"
   ]
  },
  {
   "cell_type": "code",
   "execution_count": null,
   "id": "4c90e097",
   "metadata": {},
   "outputs": [
    {
     "data": {
      "application/vnd.jupyter.widget-view+json": {
       "model_id": "36d1937354074ff090c17dba1d87b8fc",
       "version_major": 2,
       "version_minor": 0
      },
      "text/plain": [
       "Saving the dataset (0/12 shards):   0%|          | 0/1000000 [00:00<?, ? examples/s]"
      ]
     },
     "metadata": {},
     "output_type": "display_data"
    },
    {
     "data": {
      "application/vnd.jupyter.widget-view+json": {
       "model_id": "9885556890a64542ade9f7ccec969815",
       "version_major": 2,
       "version_minor": 0
      },
      "text/plain": [
       "Saving the dataset (0/1 shards):   0%|          | 0/500 [00:00<?, ? examples/s]"
      ]
     },
     "metadata": {},
     "output_type": "display_data"
    },
    {
     "data": {
      "application/vnd.jupyter.widget-view+json": {
       "model_id": "5711fc2fa682413299eb8fe6c29e6f96",
       "version_major": 2,
       "version_minor": 0
      },
      "text/plain": [
       "Saving the dataset (0/1 shards):   0%|          | 0/10000 [00:00<?, ? examples/s]"
      ]
     },
     "metadata": {},
     "output_type": "display_data"
    }
   ],
   "source": [
    "ds = load_dataset('data/minipile')"
   ]
  },
  {
   "cell_type": "code",
   "execution_count": 25,
   "id": "7bed42fe",
   "metadata": {},
   "outputs": [
    {
     "name": "stderr",
     "output_type": "stream",
     "text": [
      "100%|██████████| 1000000/1000000 [1:25:11<00:00, 195.63it/s]\n"
     ]
    }
   ],
   "source": [
    "from tqdm import tqdm\n",
    "\n",
    "# experiment filenames\n",
    "def minipile_experiment(ds: Dataset):\n",
    "    word_freq_dict, gpt_token_freq_dict, roberta_token_freq_dict = {}, {}, {}\n",
    "    word_count, gpt_token_count, roberta_token_count = 0, 0, 0\n",
    "\n",
    "    prog_bar = tqdm(ds['train'])\n",
    "    for line in prog_bar:\n",
    "        item = str(line['text'])\n",
    "        word_count += increment_frequency(dictionary=word_freq_dict, item=item, tokenizer=None)\n",
    "        gpt_token_count += increment_frequency(dictionary=gpt_token_freq_dict, item=item, tokenizer=gpt_tokenizer)\n",
    "        roberta_token_count += increment_frequency(dictionary=roberta_token_freq_dict, item=item, tokenizer=roberta_tokenizer)\n",
    "\n",
    "    # \n",
    "    sorted_word_freq_dict = sort_dictionary(dictionary=word_freq_dict)\n",
    "    word_frequencies = normalize_dictionary(dictionary=sorted_word_freq_dict, denominator=word_count)\n",
    "\n",
    "    sorted_gpt_token_freq_dict = sort_dictionary(dictionary=gpt_token_freq_dict)\n",
    "    gpt_token_frequencies = normalize_dictionary(dictionary=sorted_gpt_token_freq_dict, denominator=gpt_token_count)\n",
    "\n",
    "    sorted_roberta_token_freq_dict = sort_dictionary(dictionary=roberta_token_freq_dict)\n",
    "    roberta_token_frequencies = normalize_dictionary(dictionary=sorted_roberta_token_freq_dict, denominator=roberta_token_count)\n",
    "\n",
    "    return word_frequencies, gpt_token_frequencies, roberta_token_frequencies\n",
    "\n",
    "minipile_word_frequencies, minipile_gpt_token_frequencies, minipile_roberta_token_frequencies = minipile_experiment(ds = ds)"
   ]
  },
  {
   "cell_type": "code",
   "execution_count": 26,
   "id": "63ea17f3",
   "metadata": {},
   "outputs": [],
   "source": [
    "# save distributions\n",
    "import pickle\n",
    "\n",
    "# dataset = 'bookscorpus'\n",
    "dataset = 'minipile'\n",
    "with open(f'{dataset}_words.pickle', 'wb') as f:\n",
    "    pickle.dump(minipile_word_frequencies, f) \n",
    "with open(f'{dataset}_gpt4.pickle', 'wb') as f:\n",
    "    pickle.dump(minipile_gpt_token_frequencies, f) \n",
    "with open(f'{dataset}_roberta.pickle', 'wb') as f:\n",
    "    pickle.dump(minipile_roberta_token_frequencies, f) "
   ]
  },
  {
   "cell_type": "code",
   "execution_count": 2,
   "id": "8abebd79",
   "metadata": {},
   "outputs": [],
   "source": [
    "# load distributions\n",
    "import pickle\n",
    "\n",
    "# dataset = 'bookscorpus'\n",
    "dataset = 'minipile'\n",
    "with open(f'distributions/{dataset}_words.pickle', 'rb') as f:\n",
    "    minipile_word_frequencies = pickle.load(f) \n",
    "with open(f'distributions/{dataset}_gpt4.pickle', 'rb') as f:\n",
    "    minipile_gpt_token_frequencies = pickle.load(f) \n",
    "with open(f'distributions/{dataset}_roberta.pickle', 'rb') as f:\n",
    "    minipile_roberta_token_frequencies = pickle.load(f) \n",
    "dataset = 'bookscorpus'\n",
    "with open(f'distributions/{dataset}_words.pickle', 'rb') as f:\n",
    "    bookscorpus_word_frequencies = pickle.load(f) \n",
    "with open(f'distributions/{dataset}_gpt4.pickle', 'rb') as f:\n",
    "    bookscorpus_gpt_token_frequencies = pickle.load(f) \n",
    "with open(f'distributions/{dataset}_roberta.pickle', 'rb') as f:\n",
    "    bookscorpus_roberta_token_frequencies = pickle.load(f) "
   ]
  },
  {
   "cell_type": "code",
   "execution_count": null,
   "id": "280eb326",
   "metadata": {},
   "outputs": [
    {
     "name": "stdout",
     "output_type": "stream",
     "text": [
      "`` 0.19177784004449044\n",
      "i 0.10262442032366043\n",
      "he 0.06652607740195601\n",
      "she 0.047221964128860316\n",
      "the 0.045993196496827184\n",
      "it 0.026467406700060436\n",
      "but 0.01623081589338382\n",
      "you 0.016010355516444277\n",
      "-----------------\n",
      ", 0.029901769192377796\n",
      " the 0.02904267640822425\n",
      ". 0.02307395128605175\n",
      "  0.01980016551537193\n",
      " of 0.016492541734872617\n",
      " and 0.014015381768948365\n",
      " to 0.013539689822412429\n",
      " a 0.010875835181143928\n"
     ]
    }
   ],
   "source": [
    "# NOTE most common tokens and words!\n",
    "lim = 7\n",
    "\n",
    "# for i, (key, value) in enumerate(bookscorpus_word_frequencies.items()):\n",
    "#     print(key, value)\n",
    "#     if i == lim: break\n",
    "# print('-----------------')\n",
    "# for i, (key, value) in enumerate(minipile_word_frequencies.items()):\n",
    "#     print(key, value)\n",
    "#     if i == lim: break\n",
    "\n",
    "# for i, (key, value) in enumerate(bookscorpus_roberta_token_frequencies.items()):\n",
    "#     print(roberta_tokenizer.detokenize(key), value)\n",
    "#     if i == lim: break\n",
    "# print('-----------------')\n",
    "# for i, (key, value) in enumerate(minipile_roberta_token_frequencies.items()):\n",
    "#     print(roberta_tokenizer.detokenize(key), value)\n",
    "#     if i == lim: break\n",
    "\n",
    "for i, (key, value) in enumerate(bookscorpus_gpt_token_frequencies.items()):\n",
    "    print(gpt_tokenizer.detokenize([key]), value)\n",
    "    if i == lim: break\n",
    "print('-----------------')\n",
    "for i, (key, value) in enumerate(minipile_gpt_token_frequencies.items()):\n",
    "    print(gpt_tokenizer.detokenize([key]), value)\n",
    "    if i == lim: break"
   ]
  },
  {
   "cell_type": "code",
   "execution_count": 30,
   "id": "ba37302b",
   "metadata": {},
   "outputs": [
    {
     "data": {
      "image/png": "[encoded data removed]",
      "text/plain": [
       "<Figure size 640x480 with 1 Axes>"
      ]
     },
     "metadata": {},
     "output_type": "display_data"
    }
   ],
   "source": [
    "# \n",
    "import matplotlib.pyplot as plt\n",
    "from math import log\n",
    "\n",
    "plt.plot([key_num for key_num, key in enumerate(bookscorpus_word_frequencies)], [float(value) for key, value in bookscorpus_word_frequencies.items()], label='Word Frequency')\n",
    "plt.plot([key_num for key_num, key in enumerate(bookscorpus_gpt_token_frequencies)], [float(value) for key, value in bookscorpus_gpt_token_frequencies.items()], label='GPT Token Frequency')\n",
    "plt.plot([key_num+1 for key_num, key in enumerate(bookscorpus_roberta_token_frequencies)], [float(value) for key, value in bookscorpus_roberta_token_frequencies.items()], label='RoBERTa Token Frequency')\n",
    "# plt.title(f'MiniPile Word & Token Frequency Analysis')\n",
    "plt.title(f'bookscorpus Word & Token Frequency Analysis')\n",
    "plt.xlabel(f'Rank')\n",
    "plt.ylabel(f'Frequency')\n",
    "plt.yscale(f'log')\n",
    "plt.xscale(f'log')\n",
    "plt.legend()\n",
    "plt.show()"
   ]
  },
  {
   "cell_type": "code",
   "execution_count": 40,
   "id": "1ebab563",
   "metadata": {},
   "outputs": [
    {
     "name": "stdout",
     "output_type": "stream",
     "text": [
      "dist expon params: (7.034490534789096e-10, 5.604175037180939e-06)\n",
      "dist expon has ks p_value: KstestResult(statistic=np.float64(0.5628115129103254), pvalue=np.float64(0.0), statistic_location=np.float64(9.932700635122203e-07), statistic_sign=np.int8(1))\n",
      "dist lognorm params: (np.float64(8.247574286878852), np.float64(7.034490534789095e-10), np.float64(3.675754740524034e-08))\n",
      "dist lognorm has ks p_value: KstestResult(statistic=np.float64(0.2834437997748445), pvalue=np.float64(0.0), statistic_location=np.float64(2.1103471604367286e-09), statistic_sign=np.int8(-1))\n"
     ]
    },
    {
     "data": {
      "text/plain": [
       "'\\nbookscorpus word:\\n    dist expon params: (1.0153874422544972e-09, 7.589230879387788e-07)\\n    dist expon has ks p_value: KstestResult(statistic=np.float64(0.874332786084574), pvalue=np.float64(0.0), statistic_location=np.float64(3.0461623267634917e-08), statistic_sign=np.int8(1))\\n    dist lognorm params: (np.float64(18.297301550856996), np.float64(1.015387442254497e-09), np.float64(3.16838237869172e-15))\\n    dist lognorm has ks p_value: KstestResult(statistic=np.float64(0.3790793182058966), pvalue=np.float64(0.0), statistic_location=np.float64(2.0307748845089944e-09), statistic_sign=np.int8(-1))\\nminipile word:\\n    dist expon params: (1.1531822317963101e-09, 2.97973577529876e-08)\\n    dist expon has ks p_value: KstestResult(statistic=np.float64(0.8084651820516531), pvalue=np.float64(0.0), statistic_location=np.float64(3.4595466953889304e-09), statistic_sign=np.int8(1))\\n    dist lognorm params: (np.float64(16.849736373495528), np.float64(1.15318223179631e-09), np.float64(8.498058092906186e-21))\\n    dist lognorm has ks p_value: KstestResult(statistic=np.float64(0.45099315157289), pvalue=np.float64(0.0), statistic_location=np.float64(1.1531822317963101e-09), statistic_sign=np.int8(1))\\n'"
      ]
     },
     "execution_count": 40,
     "metadata": {},
     "output_type": "execute_result"
    }
   ],
   "source": [
    "import scipy\n",
    "# import scipy.stats as stats\n",
    "\n",
    "\n",
    "y = [float(val) for val in minipile_gpt_token_frequencies.values()]\n",
    "# dist_names = ['zipf']\n",
    "dist_names = ['expon', 'lognorm']\n",
    "\n",
    "for dist_name in dist_names:\n",
    "    dist = getattr(scipy.stats, dist_name)\n",
    "    params = dist.fit(y)\n",
    "    print(f'dist {dist_name} params: {params}')\n",
    "\n",
    "    info = scipy.stats.kstest(y, dist_name, args=params)\n",
    "    print(f'dist {dist_name} has ks p_value: {info}')\n",
    "\n",
    "\n",
    "'''\n",
    "bookscorpus word:\n",
    "    dist expon params: (1.0153874422544972e-09, 7.589230879387788e-07)\n",
    "    dist expon has ks p_value: KstestResult(statistic=np.float64(0.874332786084574), pvalue=np.float64(0.0), statistic_location=np.float64(3.0461623267634917e-08), statistic_sign=np.int8(1))\n",
    "    dist lognorm params: (np.float64(18.297301550856996), np.float64(1.015387442254497e-09), np.float64(3.16838237869172e-15))\n",
    "    dist lognorm has ks p_value: KstestResult(statistic=np.float64(0.3790793182058966), pvalue=np.float64(0.0), statistic_location=np.float64(2.0307748845089944e-09), statistic_sign=np.int8(-1))\n",
    "minipile word:\n",
    "    dist expon params: (1.1531822317963101e-09, 2.97973577529876e-08)\n",
    "    dist expon has ks p_value: KstestResult(statistic=np.float64(0.8084651820516531), pvalue=np.float64(0.0), statistic_location=np.float64(3.4595466953889304e-09), statistic_sign=np.int8(1))\n",
    "    dist lognorm params: (np.float64(16.849736373495528), np.float64(1.15318223179631e-09), np.float64(8.498058092906186e-21))\n",
    "    dist lognorm has ks p_value: KstestResult(statistic=np.float64(0.45099315157289), pvalue=np.float64(0.0), statistic_location=np.float64(1.1531822317963101e-09), statistic_sign=np.int8(1))\n",
    "'''\n"
   ]
  },
  {
   "cell_type": "code",
   "execution_count": null,
   "id": "0cc41c6c",
   "metadata": {},
   "outputs": [],
   "source": [
    "# TODO results on cleaned C4"
   ]
  }
 ],
 "metadata": {
  "kernelspec": {
   "display_name": "dlvenv",
   "language": "python",
   "name": "dlvenv"
  },
  "language_info": {
   "codemirror_mode": {
    "name": "ipython",
    "version": 3
   },
   "file_extension": ".py",
   "mimetype": "text/x-python",
   "name": "python",
   "nbconvert_exporter": "python",
   "pygments_lexer": "ipython3",
   "version": "3.11.2"
  }
 },
 "nbformat": 4,
 "nbformat_minor": 5
}
