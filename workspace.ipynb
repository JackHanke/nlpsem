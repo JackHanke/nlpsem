{
 "cells": [
  {
   "cell_type": "markdown",
   "id": "0707b218",
   "metadata": {},
   "source": [
    "# Exploration of Zipfness in Modern Tokenizers\n",
    "Members: Jack Hanke, Daniel Plotkin, Nicole Birova"
   ]
  },
  {
   "cell_type": "code",
   "execution_count": 1,
   "id": "3def57cb",
   "metadata": {},
   "outputs": [
    {
     "name": "stderr",
     "output_type": "stream",
     "text": [
      "/Users/danielplotkin/Documents/MSAI/courses/spring_2025/nlp-sem/zipfian-repo/venv/lib/python3.12/site-packages/tqdm/auto.py:21: TqdmWarning: IProgress not found. Please update jupyter and ipywidgets. See https://ipywidgets.readthedocs.io/en/stable/user_install.html\n",
      "  from .autonotebook import tqdm as notebook_tqdm\n",
      "None of PyTorch, TensorFlow >= 2.0, or Flax have been found. Models won't be available and only tokenizers, configuration and file/data utilities can be used.\n"
     ]
    }
   ],
   "source": [
    "# get RoBERTa, GPT-4 tokenizers\n",
    "from transformers import RobertaTokenizer, AutoTokenizer\n",
    "import tiktoken\n",
    "\n",
    "class RoBERTa_Tokenizer:\n",
    "    def __init__(self):\n",
    "        self.name = 'RoBERTa Tokenizer'\n",
    "        self.tokenizer = RobertaTokenizer.from_pretrained(\"FacebookAI/roberta-base\")\n",
    "    def tokenize(self, text_str: str):\n",
    "        return self.tokenizer(text_str)['input_ids']\n",
    "        return self.tokenizer.encode(text_str[:512])\n",
    "        return self.tokenizer.encode(text_str)\n",
    "    def detokenize(self, tokens: list[int]):\n",
    "        return self.tokenizer.decode(tokens)\n",
    "\n",
    "class GPT4_Tokenizer:\n",
    "    def __init__(self):\n",
    "        self.name = 'GPT 4 Tokenizer'\n",
    "        self.tokenizer = tiktoken.encoding_for_model(\"gpt-4o\")\n",
    "    def tokenize(self, text_str: str):\n",
    "        return self.tokenizer.encode(text_str, disallowed_special=())\n",
    "    def detokenize(self, tokens: list[int]):\n",
    "        return self.tokenizer.decode(tokens)\n",
    "\n",
    "roberta_tokenizer = RoBERTa_Tokenizer()\n",
    "gpt_tokenizer = GPT4_Tokenizer()\n",
    "\n",
    "text_str = \"Hello world\"\n",
    "assert roberta_tokenizer.detokenize(roberta_tokenizer.tokenize(text_str=text_str))\n",
    "assert gpt_tokenizer.detokenize(gpt_tokenizer.tokenize(text_str=text_str))\n"
   ]
  },
  {
   "cell_type": "code",
   "execution_count": 2,
   "id": "1e524f97",
   "metadata": {},
   "outputs": [
    {
     "name": "stdout",
     "output_type": "stream",
     "text": [
      "50265\n",
      "200019\n"
     ]
    }
   ],
   "source": [
    "print(roberta_tokenizer.tokenizer.vocab_size)\n",
    "print(gpt_tokenizer.tokenizer.n_vocab)"
   ]
  },
  {
   "cell_type": "code",
   "execution_count": 3,
   "id": "08c3c61e",
   "metadata": {},
   "outputs": [],
   "source": [
    "# \n",
    "def increment_dict(dictionary: dict, key: str):\n",
    "    try:\n",
    "        dictionary[key] += 1\n",
    "    except KeyError:\n",
    "        dictionary[key] = 1\n",
    "\n",
    "# \n",
    "def sort_dictionary(dictionary: dict):\n",
    "    return {k: v for k, v in sorted(dictionary.items(), key=lambda item: item[1], reverse=True)}\n",
    "\n",
    "# \n",
    "# increment frequency for a given item (sentence) and a given tokenizer\n",
    "def increment_frequency(dictionary:dict, item: str, tokenizer):\n",
    "    # if no tokenizer, increment word freq\n",
    "    if tokenizer is None:\n",
    "        for count, word in enumerate(item.split()):\n",
    "            increment_dict(dictionary=dictionary, key=word)\n",
    "        return count+1\n",
    "    \n",
    "    # increment token freq\n",
    "    tokens = tokenizer.tokenize(item)\n",
    "    for count, token in enumerate(tokens):\n",
    "        increment_dict(dictionary=dictionary, key=token)\n",
    "    return count+1\n",
    "\n",
    "# \n",
    "def normalize_dictionary(dictionary: dict, denominator: int):\n",
    "    return_dictionary = {}\n",
    "    for key, value in dictionary.items():\n",
    "        return_dictionary[key] = value/denominator\n",
    "    \n",
    "    return return_dictionary\n"
   ]
  },
  {
   "cell_type": "code",
   "execution_count": null,
   "id": "7e5ed532",
   "metadata": {},
   "outputs": [
    {
     "name": "stderr",
     "output_type": "stream",
     "text": [
      "  0%|          | 177395/40000000 [00:14<58:52, 11272.13it/s] Token indices sequence length is longer than the specified maximum sequence length for this model (526 > 512). Running this sequence through the model will result in indexing errors\n",
      "100%|██████████| 40000000/40000000 [46:41<00:00, 14275.76it/s] \n",
      "100%|██████████| 34004228/34004228 [38:09<00:00, 14855.38it/s]\n"
     ]
    }
   ],
   "source": [
    "# get bookscorpus from: \"https://storage.googleapis.com/huggingface-nlp/datasets/bookcorpus/bookcorpus.tar.bz2\"\n",
    "from tqdm import tqdm\n",
    "\n",
    "# experiment filenames\n",
    "def experiment(filenames: list[str]):\n",
    "    word_freq_dict, gpt_token_freq_dict, roberta_token_freq_dict = {}, {}, {}\n",
    "    word_count, gpt_token_count, roberta_token_count = 0, 0, 0\n",
    "\n",
    "    for filename in filenames:\n",
    "        with open(filename, 'r') as f:\n",
    "            prog_bar = tqdm(f.readlines())\n",
    "            for line in prog_bar:\n",
    "                item = str(line)\n",
    "                word_count += increment_frequency(dictionary=word_freq_dict, item=item, tokenizer=None)\n",
    "                gpt_token_count += increment_frequency(dictionary=gpt_token_freq_dict, item=item, tokenizer=gpt_tokenizer)\n",
    "                roberta_token_count += increment_frequency(dictionary=roberta_token_freq_dict, item=item, tokenizer=roberta_tokenizer)\n",
    "\n",
    "    # \n",
    "    sorted_word_freq_dict = sort_dictionary(dictionary=word_freq_dict)\n",
    "    word_frequencies = normalize_dictionary(dictionary=sorted_word_freq_dict, denominator=word_count)\n",
    "\n",
    "    sorted_gpt_token_freq_dict = sort_dictionary(dictionary=gpt_token_freq_dict)\n",
    "    gpt_token_frequencies = normalize_dictionary(dictionary=sorted_gpt_token_freq_dict, denominator=gpt_token_count)\n",
    "\n",
    "    sorted_roberta_token_freq_dict = sort_dictionary(dictionary=roberta_token_freq_dict)\n",
    "    roberta_token_frequencies = normalize_dictionary(dictionary=sorted_roberta_token_freq_dict, denominator=roberta_token_count)\n",
    "\n",
    "    return word_frequencies, gpt_token_frequencies, roberta_token_frequencies\n"
   ]
  },
  {
   "cell_type": "code",
   "execution_count": null,
   "id": "f0b6d40a",
   "metadata": {},
   "outputs": [],
   "source": [
    "# bookscorpus experiment\n",
    "# NOTE these are over 2GB each\n",
    "filenames = [f'data/books_large_p1.txt', f'data/books_large_p2.txt']\n",
    "\n",
    "bookscorpus_word_frequencies, bookscorpus_gpt_token_frequencies, bookscorpus_roberta_token_frequencies = experiment(filenames=filenames)"
   ]
  },
  {
   "cell_type": "code",
   "execution_count": null,
   "id": "62ccbf4a",
   "metadata": {},
   "outputs": [
    {
     "data": {
      "application/vnd.jupyter.widget-view+json": {
       "model_id": "a979930a4cee4850b8118a39b786e807",
       "version_major": 2,
       "version_minor": 0
      },
      "text/plain": [
       "README.md:   0%|          | 0.00/3.25k [00:00<?, ?B/s]"
      ]
     },
     "metadata": {},
     "output_type": "display_data"
    },
    {
     "data": {
      "application/vnd.jupyter.widget-view+json": {
       "model_id": "32f33f966bc741e59e9b468d4293abb5",
       "version_major": 2,
       "version_minor": 0
      },
      "text/plain": [
       "(…)-00000-of-00012-6fbcb5acda05b3c0.parquet:   0%|          | 0.00/258M [00:00<?, ?B/s]"
      ]
     },
     "metadata": {},
     "output_type": "display_data"
    },
    {
     "data": {
      "application/vnd.jupyter.widget-view+json": {
       "model_id": "082946a8159e4ca188f615126179ce4b",
       "version_major": 2,
       "version_minor": 0
      },
      "text/plain": [
       "(…)-00001-of-00012-2bb9d088068a84c9.parquet:   0%|          | 0.00/262M [00:00<?, ?B/s]"
      ]
     },
     "metadata": {},
     "output_type": "display_data"
    },
    {
     "data": {
      "application/vnd.jupyter.widget-view+json": {
       "model_id": "fb7ba75cda1f491db71844594f38c05a",
       "version_major": 2,
       "version_minor": 0
      },
      "text/plain": [
       "(…)-00002-of-00012-efb6c8de04272068.parquet:   0%|          | 0.00/259M [00:00<?, ?B/s]"
      ]
     },
     "metadata": {},
     "output_type": "display_data"
    },
    {
     "data": {
      "application/vnd.jupyter.widget-view+json": {
       "model_id": "8fd3573e099c4a349ed791befaa52581",
       "version_major": 2,
       "version_minor": 0
      },
      "text/plain": [
       "(…)-00003-of-00012-47006e5a888a9324.parquet:   0%|          | 0.00/275M [00:00<?, ?B/s]"
      ]
     },
     "metadata": {},
     "output_type": "display_data"
    },
    {
     "data": {
      "application/vnd.jupyter.widget-view+json": {
       "model_id": "0308c5b1c6254d7fb0496d5702a03387",
       "version_major": 2,
       "version_minor": 0
      },
      "text/plain": [
       "(…)-00004-of-00012-a6a94a0207e8e96c.parquet:   0%|          | 0.00/260M [00:00<?, ?B/s]"
      ]
     },
     "metadata": {},
     "output_type": "display_data"
    },
    {
     "data": {
      "application/vnd.jupyter.widget-view+json": {
       "model_id": "400b8c80ce694ef8bb58bd018dced043",
       "version_major": 2,
       "version_minor": 0
      },
      "text/plain": [
       "(…)-00005-of-00012-d255c96cd87a0aa7.parquet:   0%|          | 0.00/263M [00:00<?, ?B/s]"
      ]
     },
     "metadata": {},
     "output_type": "display_data"
    },
    {
     "data": {
      "application/vnd.jupyter.widget-view+json": {
       "model_id": "9aa430ba1d114338bbcc27a8952dd33e",
       "version_major": 2,
       "version_minor": 0
      },
      "text/plain": [
       "(…)-00006-of-00012-89040916c30140e6.parquet:   0%|          | 0.00/259M [00:00<?, ?B/s]"
      ]
     },
     "metadata": {},
     "output_type": "display_data"
    },
    {
     "data": {
      "application/vnd.jupyter.widget-view+json": {
       "model_id": "e331d40088a545b5b87e5f2e6b927691",
       "version_major": 2,
       "version_minor": 0
      },
      "text/plain": [
       "(…)-00007-of-00012-239b43e016d4ac92.parquet:   0%|          | 0.00/256M [00:00<?, ?B/s]"
      ]
     },
     "metadata": {},
     "output_type": "display_data"
    },
    {
     "data": {
      "application/vnd.jupyter.widget-view+json": {
       "model_id": "b3540831199c4eb89ffa8f800eb5e45c",
       "version_major": 2,
       "version_minor": 0
      },
      "text/plain": [
       "(…)-00008-of-00012-3273ba93936ad8ef.parquet:   0%|          | 0.00/260M [00:00<?, ?B/s]"
      ]
     },
     "metadata": {},
     "output_type": "display_data"
    },
    {
     "data": {
      "application/vnd.jupyter.widget-view+json": {
       "model_id": "51fb0ec3247248c6b8a51c448705769b",
       "version_major": 2,
       "version_minor": 0
      },
      "text/plain": [
       "(…)-00009-of-00012-0b640f47936d940a.parquet:   0%|          | 0.00/264M [00:00<?, ?B/s]"
      ]
     },
     "metadata": {},
     "output_type": "display_data"
    },
    {
     "data": {
      "application/vnd.jupyter.widget-view+json": {
       "model_id": "3c4e6667aa4b4fec88d55ceb9d61b1fe",
       "version_major": 2,
       "version_minor": 0
      },
      "text/plain": [
       "(…)-00010-of-00012-d266658ccbfa0537.parquet:   0%|          | 0.00/270M [00:00<?, ?B/s]"
      ]
     },
     "metadata": {},
     "output_type": "display_data"
    },
    {
     "data": {
      "application/vnd.jupyter.widget-view+json": {
       "model_id": "a8f1f47f545e4e93a9e04b2eb2f1be44",
       "version_major": 2,
       "version_minor": 0
      },
      "text/plain": [
       "(…)-00011-of-00012-aec474909333c631.parquet:   0%|          | 0.00/258M [00:00<?, ?B/s]"
      ]
     },
     "metadata": {},
     "output_type": "display_data"
    },
    {
     "data": {
      "application/vnd.jupyter.widget-view+json": {
       "model_id": "28a18c83eb11488581351edebc55803e",
       "version_major": 2,
       "version_minor": 0
      },
      "text/plain": [
       "(…)-00000-of-00001-a2192e61a091cecb.parquet:   0%|          | 0.00/1.52M [00:00<?, ?B/s]"
      ]
     },
     "metadata": {},
     "output_type": "display_data"
    },
    {
     "data": {
      "application/vnd.jupyter.widget-view+json": {
       "model_id": "4e4aba513c284e18bdd46f8e4137ccaf",
       "version_major": 2,
       "version_minor": 0
      },
      "text/plain": [
       "(…)-00000-of-00001-010a6231c4b54d31.parquet:   0%|          | 0.00/31.5M [00:00<?, ?B/s]"
      ]
     },
     "metadata": {},
     "output_type": "display_data"
    },
    {
     "data": {
      "application/vnd.jupyter.widget-view+json": {
       "model_id": "1a14dc3e851649f2918707b75b4a06d0",
       "version_major": 2,
       "version_minor": 0
      },
      "text/plain": [
       "Generating train split:   0%|          | 0/1000000 [00:00<?, ? examples/s]"
      ]
     },
     "metadata": {},
     "output_type": "display_data"
    },
    {
     "data": {
      "application/vnd.jupyter.widget-view+json": {
       "model_id": "619b6d299ed84346a34a6a658b42806e",
       "version_major": 2,
       "version_minor": 0
      },
      "text/plain": [
       "Generating validation split:   0%|          | 0/500 [00:00<?, ? examples/s]"
      ]
     },
     "metadata": {},
     "output_type": "display_data"
    },
    {
     "data": {
      "application/vnd.jupyter.widget-view+json": {
       "model_id": "ece345cb9cea4bf887bb10d60187dcc3",
       "version_major": 2,
       "version_minor": 0
      },
      "text/plain": [
       "Generating test split:   0%|          | 0/10000 [00:00<?, ? examples/s]"
      ]
     },
     "metadata": {},
     "output_type": "display_data"
    }
   ],
   "source": [
    "from datasets import load_dataset, Dataset\n",
    "\n",
    "def get_minipile():\n",
    "    ds = load_dataset(\"JeanKaddour/minipile\")\n",
    "    ds.save_to_disk('data/minipile')"
   ]
  },
  {
   "cell_type": "code",
   "execution_count": null,
   "id": "4c90e097",
   "metadata": {},
   "outputs": [
    {
     "data": {
      "application/vnd.jupyter.widget-view+json": {
       "model_id": "36d1937354074ff090c17dba1d87b8fc",
       "version_major": 2,
       "version_minor": 0
      },
      "text/plain": [
       "Saving the dataset (0/12 shards):   0%|          | 0/1000000 [00:00<?, ? examples/s]"
      ]
     },
     "metadata": {},
     "output_type": "display_data"
    },
    {
     "data": {
      "application/vnd.jupyter.widget-view+json": {
       "model_id": "9885556890a64542ade9f7ccec969815",
       "version_major": 2,
       "version_minor": 0
      },
      "text/plain": [
       "Saving the dataset (0/1 shards):   0%|          | 0/500 [00:00<?, ? examples/s]"
      ]
     },
     "metadata": {},
     "output_type": "display_data"
    },
    {
     "data": {
      "application/vnd.jupyter.widget-view+json": {
       "model_id": "5711fc2fa682413299eb8fe6c29e6f96",
       "version_major": 2,
       "version_minor": 0
      },
      "text/plain": [
       "Saving the dataset (0/1 shards):   0%|          | 0/10000 [00:00<?, ? examples/s]"
      ]
     },
     "metadata": {},
     "output_type": "display_data"
    }
   ],
   "source": [
    "ds = load_dataset('data/minipile')"
   ]
  },
  {
   "cell_type": "code",
   "execution_count": 25,
   "id": "7bed42fe",
   "metadata": {},
   "outputs": [
    {
     "name": "stderr",
     "output_type": "stream",
     "text": [
      "100%|██████████| 1000000/1000000 [1:25:11<00:00, 195.63it/s]\n"
     ]
    }
   ],
   "source": [
    "from tqdm import tqdm\n",
    "\n",
    "# experiment filenames\n",
    "def minipile_experiment(ds: Dataset):\n",
    "    word_freq_dict, gpt_token_freq_dict, roberta_token_freq_dict = {}, {}, {}\n",
    "    word_count, gpt_token_count, roberta_token_count = 0, 0, 0\n",
    "\n",
    "    prog_bar = tqdm(ds['train'])\n",
    "    for line in prog_bar:\n",
    "        item = str(line['text'])\n",
    "        word_count += increment_frequency(dictionary=word_freq_dict, item=item, tokenizer=None)\n",
    "        gpt_token_count += increment_frequency(dictionary=gpt_token_freq_dict, item=item, tokenizer=gpt_tokenizer)\n",
    "        roberta_token_count += increment_frequency(dictionary=roberta_token_freq_dict, item=item, tokenizer=roberta_tokenizer)\n",
    "\n",
    "    # \n",
    "    sorted_word_freq_dict = sort_dictionary(dictionary=word_freq_dict)\n",
    "    word_frequencies = normalize_dictionary(dictionary=sorted_word_freq_dict, denominator=word_count)\n",
    "\n",
    "    sorted_gpt_token_freq_dict = sort_dictionary(dictionary=gpt_token_freq_dict)\n",
    "    gpt_token_frequencies = normalize_dictionary(dictionary=sorted_gpt_token_freq_dict, denominator=gpt_token_count)\n",
    "\n",
    "    sorted_roberta_token_freq_dict = sort_dictionary(dictionary=roberta_token_freq_dict)\n",
    "    roberta_token_frequencies = normalize_dictionary(dictionary=sorted_roberta_token_freq_dict, denominator=roberta_token_count)\n",
    "\n",
    "    return word_frequencies, gpt_token_frequencies, roberta_token_frequencies\n",
    "\n",
    "minipile_word_frequencies, minipile_gpt_token_frequencies, minipile_roberta_token_frequencies = minipile_experiment(ds = ds)"
   ]
  },
  {
   "cell_type": "code",
   "execution_count": 26,
   "id": "63ea17f3",
   "metadata": {},
   "outputs": [],
   "source": [
    "# save distributions\n",
    "import pickle\n",
    "\n",
    "# dataset = 'bookscorpus'\n",
    "dataset = 'minipile'\n",
    "with open(f'{dataset}_words.pickle', 'wb') as f:\n",
    "    pickle.dump(minipile_word_frequencies, f) \n",
    "with open(f'{dataset}_gpt4.pickle', 'wb') as f:\n",
    "    pickle.dump(minipile_gpt_token_frequencies, f) \n",
    "with open(f'{dataset}_roberta.pickle', 'wb') as f:\n",
    "    pickle.dump(minipile_roberta_token_frequencies, f) "
   ]
  },
  {
   "cell_type": "code",
   "execution_count": 2,
   "id": "8abebd79",
   "metadata": {},
   "outputs": [],
   "source": [
    "# load distributions\n",
    "import pickle\n",
    "\n",
    "# dataset = 'bookscorpus'\n",
    "dataset = 'minipile'\n",
    "with open(f'distributions/{dataset}_words.pickle', 'rb') as f:\n",
    "    minipile_word_frequencies = pickle.load(f) \n",
    "with open(f'distributions/{dataset}_gpt4.pickle', 'rb') as f:\n",
    "    minipile_gpt_token_frequencies = pickle.load(f) \n",
    "with open(f'distributions/{dataset}_roberta.pickle', 'rb') as f:\n",
    "    minipile_roberta_token_frequencies = pickle.load(f) \n",
    "    \n",
    "dataset = 'bookscorpus'\n",
    "with open(f'distributions/{dataset}_words.pickle', 'rb') as f:\n",
    "    bookscorpus_word_frequencies = pickle.load(f) \n",
    "with open(f'distributions/{dataset}_gpt4.pickle', 'rb') as f:\n",
    "    bookscorpus_gpt_token_frequencies = pickle.load(f) \n",
    "with open(f'distributions/{dataset}_roberta.pickle', 'rb') as f:\n",
    "    bookscorpus_roberta_token_frequencies = pickle.load(f) "
   ]
  },
  {
   "cell_type": "code",
   "execution_count": 26,
   "id": "280eb326",
   "metadata": {},
   "outputs": [
    {
     "name": "stdout",
     "output_type": "stream",
     "text": [
      "803 1.5310877515400526e-09\n",
      "linux 1.5310877515400526e-09\n",
      "ablished 1.5310877515400526e-09\n",
      "ntax 1.5310877515400526e-09\n",
      "200000 1.5310877515400526e-09\n",
      "''. 1.5310877515400526e-09\n",
      "agonists 1.5310877515400526e-09\n",
      " livestream 1.5310877515400526e-09\n",
      "/. 1.5310877515400526e-09\n",
      "vertising 1.5310877515400526e-09\n",
      "enfranch 1.5310877515400526e-09\n",
      "inances 1.5310877515400526e-09\n",
      " conflic 1.5310877515400526e-09\n",
      "969 1.5310877515400526e-09\n",
      "ettings 1.5310877515400526e-09\n",
      " rgb 1.5310877515400526e-09\n",
      "-, 1.5310877515400526e-09\n",
      "func 1.5310877515400526e-09\n",
      "cfg 1.5310877515400526e-09\n",
      "ternity 1.5310877515400526e-09\n",
      " github 1.5310877515400526e-09\n",
      "953 1.5310877515400526e-09\n",
      " /// 1.5310877515400526e-09\n",
      "initialized 1.5310877515400526e-09\n",
      " args 1.5310877515400526e-09\n",
      "=/ 1.5310877515400526e-09\n",
      "antage 1.5310877515400526e-09\n",
      " volunte 1.5310877515400526e-09\n",
      "055 1.5310877515400526e-09\n",
      "++++++++++++++++ 1.5310877515400526e-09\n",
      "++++++++ 1.5310877515400526e-09\n",
      " subparagraph 1.5310877515400526e-09\n",
      "offset 1.5310877515400526e-09\n",
      "iphate 1.5310877515400526e-09\n",
      "954 1.5310877515400526e-09\n",
      " namespace 1.5310877515400526e-09\n",
      "uploads 7.655438757700263e-10\n",
      "estinal 7.655438757700263e-10\n",
      "cyclopedia 7.655438757700263e-10\n",
      " seq 7.655438757700263e-10\n",
      "malink 7.655438757700263e-10\n",
      "bleacher 7.655438757700263e-10\n",
      " cannabinoid 7.655438757700263e-10\n",
      " preval 7.655438757700263e-10\n",
      "efficients 7.655438757700263e-10\n",
      "iosyncr 7.655438757700263e-10\n",
      " pestic 7.655438757700263e-10\n",
      "ptr 7.655438757700263e-10\n",
      "cdn 7.655438757700263e-10\n",
      "517 7.655438757700263e-10\n",
      "713 7.655438757700263e-10\n",
      "714 7.655438757700263e-10\n",
      "oultry 7.655438757700263e-10\n",
      "uyomi 7.655438757700263e-10\n",
      "letico 7.655438757700263e-10\n",
      "gex 7.655438757700263e-10\n",
      "66666666 7.655438757700263e-10\n",
      " carbohyd 7.655438757700263e-10\n",
      "endif 7.655438757700263e-10\n",
      "ctrl 7.655438757700263e-10\n",
      " unnecess 7.655438757700263e-10\n",
      "ernels 7.655438757700263e-10\n",
      " endif 7.655438757700263e-10\n",
      "ailability 7.655438757700263e-10\n",
      " /** 7.655438757700263e-10\n",
      "gdala 7.655438757700263e-10\n",
      "timeout 7.655438757700263e-10\n",
      "elligence 7.655438757700263e-10\n",
      "acebook 7.655438757700263e-10\n",
      " sudo 7.655438757700263e-10\n",
      "mbuds 7.655438757700263e-10\n",
      "idepress 7.655438757700263e-10\n",
      "asketball 7.655438757700263e-10\n",
      "-+ 7.655438757700263e-10\n",
      "iltr 7.655438757700263e-10\n",
      " predec 7.655438757700263e-10\n",
      "anyl 7.655438757700263e-10\n",
      "thumbnails 7.655438757700263e-10\n",
      " debugger 7.655438757700263e-10\n",
      "urrency 7.655438757700263e-10\n",
      "ersive 7.655438757700263e-10\n",
      " practition 7.655438757700263e-10\n",
      " 4096 7.655438757700263e-10\n",
      "csv 7.655438757700263e-10\n",
      " biomark 7.655438757700263e-10\n",
      "roximately 7.655438757700263e-10\n",
      "adiq 7.655438757700263e-10\n",
      "seq 7.655438757700263e-10\n",
      "okemon 7.655438757700263e-10\n",
      "ython 7.655438757700263e-10\n",
      " attm 7.655438757700263e-10\n",
      " npm 7.655438757700263e-10\n",
      " subreddit 7.655438757700263e-10\n",
      " xml 7.655438757700263e-10\n",
      " tmp 7.655438757700263e-10\n",
      "ermanent 7.655438757700263e-10\n",
      " sizeof 7.655438757700263e-10\n",
      "\\' 7.655438757700263e-10\n",
      " lineback 7.655438757700263e-10\n",
      "ratom 7.655438757700263e-10\n"
     ]
    }
   ],
   "source": [
    "# NOTE most common tokens and words!\n",
    "lim = 100\n",
    "bookscorpus_word_len = len(bookscorpus_word_frequencies)\n",
    "bookscorpus_roberta_len = len(bookscorpus_roberta_token_frequencies)\n",
    "bookscorpus_gpt_len = len(bookscorpus_gpt_token_frequencies)\n",
    "minipile_word_len = len(minipile_word_frequencies)\n",
    "minipile_roberta_len = len(minipile_roberta_token_frequencies)\n",
    "minipile_gpt_len = len(minipile_gpt_token_frequencies)\n",
    "\n",
    "# print(bookscorpus_word_len)\n",
    "# print(bookscorpus_roberta_len)\n",
    "# print(bookscorpus_gpt_len)\n",
    "# print(minipile_word_len)\n",
    "# print(minipile_roberta_len)\n",
    "# print(minipile_gpt_len)\n",
    "\n",
    "# for i, (key, value) in enumerate(bookscorpus_word_frequencies.items()):\n",
    "#     # print(key, value)\n",
    "#     # if i == lim: break\n",
    "#     if i >= bookscorpus_word_len - lim:\n",
    "#         print(key, value)\n",
    "# print('-----------------')\n",
    "# for i, (key, value) in enumerate(minipile_word_frequencies.items()):\n",
    "#     # print(key, value)\n",
    "#     # if i == lim: break\n",
    "#     if i >= minipile_word_len - lim:\n",
    "#         print(key, value)\n",
    "\n",
    "for i, (key, value) in enumerate(bookscorpus_roberta_token_frequencies.items()):\n",
    "    # if i == lim: break\n",
    "    if i >= bookscorpus_roberta_len - lim:\n",
    "        print(roberta_tokenizer.detokenize(key), value)\n",
    "# print('-----------------')\n",
    "# for i, (key, value) in enumerate(minipile_roberta_token_frequencies.items()):\n",
    "#     # if i == lim: break\n",
    "#     if i >= minipile_roberta_len - lim:\n",
    "#         print(roberta_tokenizer.detokenize(key), value)\n",
    "\n",
    "# for i, (key, value) in enumerate(bookscorpus_gpt_token_frequencies.items()):\n",
    "#     # if i == lim: break\n",
    "#     if i >= bookscorpus_gpt_len - lim:\n",
    "#         print(gpt_tokenizer.detokenize([key]), value)\n",
    "# print('-----------------')\n",
    "# for i, (key, value) in enumerate(minipile_gpt_token_frequencies.items()):\n",
    "#     # if i == lim: break\n",
    "#     if i >= minipile_gpt_len - lim:\n",
    "#         print(gpt_tokenizer.detokenize([key]), value)"
   ]
  },
  {
   "cell_type": "code",
   "execution_count": 18,
   "id": "8cdd7b68",
   "metadata": {},
   "outputs": [],
   "source": [
    "# print(f'books word: {sum([float(value) for key, value in bookscorpus_word_frequencies.items()])}')\n",
    "# print(f'books rob tok: {sum([float(value) for key, value in bookscorpus_roberta_token_frequencies.items()])}')\n",
    "# print(f'books gpt tok: {sum([float(value) for key, value in bookscorpus_gpt_token_frequencies.items()])}')\n",
    "\n",
    "# print(f'minipile word: {sum([float(value) for key, value in minipile_word_frequencies.items()])}')\n",
    "# print(f'minipile rob tok: {sum([float(value) for key, value in minipile_roberta_token_frequencies.items()])}')\n",
    "# print(f'minipile gpt tok: {sum([float(value) for key, value in minipile_gpt_token_frequencies.items()])}')\n",
    "\n",
    "# books_words = [round(1/float(value)) for key, value in bookscorpus_word_frequencies.items()][-1]\n",
    "# books_words_list = []\n",
    "# books_words_dict = {}\n",
    "# for key_num, (key, value) in enumerate(bookscorpus_word_frequencies.items()):\n",
    "#     # books_words_list += [key_num for _ in range(round(float(value)*books_words))]\n",
    "#     books_words_dict[key]= round(float(value)*books_words)\n",
    "\n",
    "# books_rob_token = [round(1/float(value)) for key, value in bookscorpus_roberta_token_frequencies.items()][-1]\n",
    "# books_rob_token_list = []\n",
    "# books_rob_token_dict = {}\n",
    "# for key_num, (key, value) in enumerate(bookscorpus_roberta_token_frequencies.items()):\n",
    "#     # books_rob_token_list += [key_num for _ in range(round(float(value)*books_rob_token))]\n",
    "#     books_rob_token_dict[key]= round(float(value)*books_rob_token)\n",
    "\n",
    "# books_gpt_token = [round(1/float(value)) for key, value in bookscorpus_gpt_token_frequencies.items()][-1]\n",
    "# books_gpt_token_list = []\n",
    "# books_gpt_token_dict = {}\n",
    "# for key_num, (key, value) in enumerate(bookscorpus_gpt_token_frequencies.items()):\n",
    "#     # books_gpt_token_list += [key_num for _ in range(round(float(value)*books_gpt_token))]\n",
    "#     books_gpt_token_dict[key]= round(float(value)*books_gpt_token)\n",
    "\n",
    "# mini_words = [round(1/float(value)) for key, value in minipile_word_frequencies.items()][-1]\n",
    "# mini_words_list = []\n",
    "# mini_words_dict = {}\n",
    "# for key_num, (key, value) in enumerate(minipile_word_frequencies.items()):\n",
    "#     # mini_words_list += [key_num for _ in range(round(float(value)*mini_words))]\n",
    "#     mini_words_dict[key]= round(float(value)*mini_words)\n",
    "\n",
    "# mini_rob_token = [round(1/float(value)) for key, value in minipile_roberta_token_frequencies.items()][-1]\n",
    "# mini_rob_token_list = []\n",
    "# mini_rob_token_dict = {}\n",
    "# for key_num, (key, value) in enumerate(minipile_roberta_token_frequencies.items()):\n",
    "#     # mini_rob_token_list += [key_num for _ in range(round(float(value)*mini_rob_token))]\n",
    "#     mini_rob_token_dict[key]= round(float(value)*mini_rob_token)\n",
    "\n",
    "mini_gpt_token = [round(1/float(value)) for key, value in minipile_gpt_token_frequencies.items()][-1]\n",
    "mini_gpt_token_list = []\n",
    "mini_gpt_token_dict = {}\n",
    "for key_num, (key, value) in enumerate(minipile_gpt_token_frequencies.items()):\n",
    "    # mini_gpt_token_list += [key_num for _ in range(round(float(value)*mini_gpt_token))]\n",
    "    mini_gpt_token_dict[key]= round(float(value)*mini_gpt_token)\n",
    "\n"
   ]
  },
  {
   "cell_type": "code",
   "execution_count": 17,
   "id": "ba37302b",
   "metadata": {},
   "outputs": [
    {
     "data": {
      "image/png": "[encoded data removed]",
      "text/plain": [
       "<Figure size 640x480 with 1 Axes>"
      ]
     },
     "metadata": {},
     "output_type": "display_data"
    }
   ],
   "source": [
    "# \n",
    "import matplotlib.pyplot as plt\n",
    "from math import log\n",
    "\n",
    "alpha = 1.103\n",
    "\n",
    "# bookscorpus\n",
    "plt.plot([key_num+1 for key_num, key in enumerate(bookscorpus_word_frequencies)], [float(value) for key, value in bookscorpus_word_frequencies.items()], label='Word Frequency')\n",
    "plt.plot([key_num+1 for key_num, key in enumerate(bookscorpus_roberta_token_frequencies)], [float(value) for key, value in bookscorpus_roberta_token_frequencies.items()], label='RoBERTa Token Frequency')\n",
    "plt.plot([key_num+1 for key_num, key in enumerate(bookscorpus_gpt_token_frequencies)], [float(value) for key, value in bookscorpus_gpt_token_frequencies.items()], label='GPT-4o Token Frequency')\n",
    "plt.plot([key_num+1 for key_num, key in enumerate(bookscorpus_word_frequencies)], [zipf.pmf(key_num+1, alpha) for key_num, key in enumerate(bookscorpus_word_frequencies)], label='Zipf Prediction', linestyle='dashed')\n",
    "plt.title(f'bookscorpus Word & Token Frequency Analysis')\n",
    "\n",
    "# minipile\n",
    "# plt.plot([key_num+1 for key_num, key in enumerate(minipile_word_frequencies)], [float(value) for key, value in minipile_word_frequencies.items()], label='Word Frequency')\n",
    "# plt.plot([key_num+1 for key_num, key in enumerate(minipile_roberta_token_frequencies)], [float(value) for key, value in minipile_roberta_token_frequencies.items()], label='RoBERTa Token Frequency')\n",
    "# plt.plot([key_num+1 for key_num, key in enumerate(minipile_gpt_token_frequencies)], [float(value) for key, value in minipile_gpt_token_frequencies.items()], label='GPT-4o Token Frequency')\n",
    "# plt.plot([key_num+1 for key_num, key in enumerate(minipile_word_frequencies)], [zipf.pmf(key_num+1, alpha) for key_num, key in enumerate(minipile_word_frequencies)], label='Zipf Prediction', linestyle='dashed')\n",
    "# plt.title(f'MiniPile Word & Token Frequency Analysis')\n",
    "\n",
    "plt.xlabel(f'Rank')\n",
    "plt.ylabel(f'Frequency')\n",
    "plt.yscale(f'log')\n",
    "plt.xscale(f'log')\n",
    "plt.legend()\n",
    "plt.show()"
   ]
  },
  {
   "cell_type": "code",
   "execution_count": 3,
   "id": "1ebab563",
   "metadata": {},
   "outputs": [
    {
     "name": "stdout",
     "output_type": "stream",
     "text": [
      "dist expon params: (0.0, 3360.476778078534)\n"
     ]
    },
    {
     "ename": "",
     "evalue": "",
     "output_type": "error",
     "traceback": [
      "\u001b[1;31mThe Kernel crashed while executing code in the current cell or a previous cell. \n",
      "\u001b[1;31mPlease review the code in the cell(s) to identify a possible cause of the failure. \n",
      "\u001b[1;31mClick <a href='https://aka.ms/vscodeJupyterKernelCrash'>here</a> for more info. \n",
      "\u001b[1;31mView Jupyter <a href='command:jupyter.viewOutput'>log</a> for further details."
     ]
    }
   ],
   "source": [
    "import scipy\n",
    "# import scipy.stats as stats\n",
    "\n",
    "\n",
    "y = [float(val) for val in minipile_gpt_token_frequencies.values()]\n",
    "# dist_names = ['zipf']\n",
    "dist_names = ['expon', 'lognorm']\n",
    "\n",
    "for dist_name in dist_names:\n",
    "    dist = getattr(scipy.stats, dist_name)\n",
    "    params = dist.fit(books_words_list)\n",
    "    print(f'dist {dist_name} params: {params}')\n",
    "\n",
    "    info = scipy.stats.kstest(books_words_list, dist_name, args=params)\n",
    "    print(f'dist {dist_name} has ks p_value: {info}')\n",
    "\n",
    "\n",
    "'''\n",
    "bookscorpus word:\n",
    "    dist expon params: (1.0153874422544972e-09, 7.589230879387788e-07)\n",
    "    dist expon has ks p_value: KstestResult(statistic=np.float64(0.874332786084574), pvalue=np.float64(0.0), statistic_location=np.float64(3.0461623267634917e-08), statistic_sign=np.int8(1))\n",
    "    dist lognorm params: (np.float64(18.297301550856996), np.float64(1.015387442254497e-09), np.float64(3.16838237869172e-15))\n",
    "    dist lognorm has ks p_value: KstestResult(statistic=np.float64(0.3790793182058966), pvalue=np.float64(0.0), statistic_location=np.float64(2.0307748845089944e-09), statistic_sign=np.int8(-1))\n",
    "minipile word:\n",
    "    dist expon params: (1.1531822317963101e-09, 2.97973577529876e-08)\n",
    "    dist expon has ks p_value: KstestResult(statistic=np.float64(0.8084651820516531), pvalue=np.float64(0.0), statistic_location=np.float64(3.4595466953889304e-09), statistic_sign=np.int8(1))\n",
    "    dist lognorm params: (np.float64(16.849736373495528), np.float64(1.15318223179631e-09), np.float64(8.498058092906186e-21))\n",
    "    dist lognorm has ks p_value: KstestResult(statistic=np.float64(0.45099315157289), pvalue=np.float64(0.0), statistic_location=np.float64(1.1531822317963101e-09), statistic_sign=np.int8(1))\n",
    "'''\n"
   ]
  },
  {
   "cell_type": "code",
   "execution_count": null,
   "id": "0cc41c6c",
   "metadata": {},
   "outputs": [
    {
     "name": "stdout",
     "output_type": "stream",
     "text": [
      "KstestResult(statistic=np.float64(1.0), pvalue=np.float64(0.0), statistic_location=np.float64(0.06594728307618831), statistic_sign=np.int8(1))\n",
      "dist zipf has ks p_value: 1.0\n",
      "KstestResult(statistic=np.float64(1.0), pvalue=np.float64(0.0), statistic_location=np.float64(0.056653483526488704), statistic_sign=np.int8(1))\n",
      "dist zipf has ks p_value: 1.0\n",
      "KstestResult(statistic=np.float64(1.0), pvalue=np.float64(0.0), statistic_location=np.float64(0.19177784004449044), statistic_sign=np.int8(1))\n",
      "dist zipf has ks p_value: 1.0\n",
      "KstestResult(statistic=np.float64(1.0), pvalue=np.float64(0.0), statistic_location=np.float64(0.047739417274623476), statistic_sign=np.int8(1))\n",
      "dist zipf has ks p_value: 1.0\n",
      "KstestResult(statistic=np.float64(1.0), pvalue=np.float64(0.0), statistic_location=np.float64(0.09183504867599476), statistic_sign=np.int8(1))\n",
      "dist zipf has ks p_value: 1.0\n",
      "KstestResult(statistic=np.float64(1.0), pvalue=np.float64(0.0), statistic_location=np.float64(0.029901769192377796), statistic_sign=np.int8(1))\n",
      "dist zipf has ks p_value: 1.0\n"
     ]
    }
   ],
   "source": [
    "# TODO test if this works\n",
    "# from scipy.stats import zipf, kstest\n",
    "import scipy\n",
    "\n",
    "for distribution in [\n",
    "        bookscorpus_word_frequencies, \n",
    "        bookscorpus_roberta_token_frequencies, \n",
    "        bookscorpus_gpt_token_frequencies, \n",
    "        minipile_word_frequencies, \n",
    "        minipile_roberta_token_frequencies, \n",
    "        minipile_gpt_token_frequencies\n",
    "    ]:\n",
    "    y = [float(val) for val in distribution.values()]\n",
    "    # alpha = 1.103\n",
    "    alpha = 5\n",
    "    # TODO test Dan's zipf thing\n",
    "    info = scipy.stats.kstest(y, scipy.stats.zipf(alpha).cdf)\n",
    "    print(info)\n",
    "    print(f'dist zipf has ks p_value: {info.statistic}')\n",
    "\n",
    "\n"
   ]
  },
  {
   "cell_type": "code",
   "execution_count": null,
   "id": "7d13c892",
   "metadata": {},
   "outputs": [
    {
     "name": "stdout",
     "output_type": "stream",
     "text": [
      "zipf GPT: α=1.102, KS=0.3136\n",
      "expon GPT has KS=0.4287\n",
      "lognorm GPT has KS=0.2544\n"
     ]
    }
   ],
   "source": [
    "import numpy as np\n",
    "import scipy.stats\n",
    "from scipy.stats import zipf, ks_2samp, kstest\n",
    "import matplotlib.pyplot as plt\n",
    "import json\n",
    "\n",
    "# Load precomputed frequency dictionaries\n",
    "# with open('gpt_counts.json') as f:\n",
    "#     gpt_counts = json.load(f)\n",
    "\n",
    "# with open('rob_counts.json') as f:\n",
    "#     rob_counts = json.load(f)\n",
    "\n",
    "# with open('word_counts.json') as f:\n",
    "#     word_counts = json.load(f)\n",
    "\n",
    "def get_ranked_sample(freq_dict, max_rank=50000, sample_size=100000):\n",
    "    items = sorted(freq_dict.items(), key=lambda x: x[1], reverse=True)[:max_rank]\n",
    "    ranks = np.arange(1, len(items) + 1)\n",
    "    freqs = np.array([count for _, count in items])\n",
    "    probs = freqs / freqs.sum()\n",
    "    sample = np.random.choice(ranks, size=sample_size, p=probs)\n",
    "    return sample, ranks\n",
    "\n",
    "def zipf_alpha_estimator(ranks):\n",
    "    return 1 + len(ranks) / np.sum(np.log(ranks))\n",
    "\n",
    "def ks_statistic_against_zipf(sample, alpha):\n",
    "    ks_stat, _ = kstest(sample, zipf(alpha).cdf)\n",
    "    return ks_stat\n",
    "\n",
    "def run_zipf_test(freq_dict, label):\n",
    "    sample, ranks = get_ranked_sample(freq_dict)\n",
    "    alpha = zipf_alpha_estimator(ranks)\n",
    "    ks_stat = ks_statistic_against_zipf(sample, alpha)\n",
    "    print(f\"zipf {label}: α={alpha:.3f}, KS={ks_stat:.4f}\")\n",
    "\n",
    "    dist_names = ['expon', 'lognorm']\n",
    "    for dist_name in dist_names:\n",
    "        dist = getattr(scipy.stats, dist_name)\n",
    "        params = dist.fit(sample)\n",
    "        # print(f'dist {dist_name} params: {params}')\n",
    "\n",
    "        info = scipy.stats.kstest(sample, dist_name, args=params)\n",
    "        print(f'{dist_name} {label} has KS={info.statistic:.4f}')\n",
    "\n",
    "    return ks_stat\n",
    "\n",
    "\n",
    "# Run tests\n",
    "# print(\"Zipf KS Statistics:\")\n",
    "# word_ks = run_zipf_test(word_counts, \"Words\")\n",
    "# rob_ks = run_zipf_test(rob_counts, \"RoBERTa\")\n",
    "# gpt_ks = run_zipf_test(gpt_counts, \"GPT-4o\")\n",
    "\n",
    "# word_ks = run_zipf_test(books_words_dict, \"Words\") # 0.3328\n",
    "# rob_ks = run_zipf_test(books_rob_token_dict, \"RoBERTa\")\n",
    "# rob_ks = run_zipf_test(books_gpt_token_dict, \"RoBERTa\")\n",
    "\n",
    "# word_ks = run_zipf_test(books_words_dict, \"Words\") # 0.3328\n",
    "# rob_ks = run_zipf_test(books_rob_token_dict, \"RoBERTa\")\n",
    "# gpt_ks = run_zipf_test(books_gpt_token_dict, \"GPT\")\n",
    "# rob_ks = run_zipf_test(mini_words_dict, \"Words\")\n",
    "# rob_ks = run_zipf_test(mini_rob_token_dict, \"RoBERTa\")\n",
    "rob_ks = run_zipf_test(mini_gpt_token_dict, \"GPT\")\n",
    "\n"
   ]
  }
 ],
 "metadata": {
  "kernelspec": {
   "display_name": "dlvenv",
   "language": "python",
   "name": "dlvenv"
  },
  "language_info": {
   "codemirror_mode": {
    "name": "ipython",
    "version": 3
   },
   "file_extension": ".py",
   "mimetype": "text/x-python",
   "name": "python",
   "nbconvert_exporter": "python",
   "pygments_lexer": "ipython3",
   "version": "3.11.2"
  }
 },
 "nbformat": 4,
 "nbformat_minor": 5
}
